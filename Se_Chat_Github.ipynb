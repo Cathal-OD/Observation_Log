{
 "cells": [
  {
   "cell_type": "code",
   "execution_count": null,
   "metadata": {},
   "outputs": [],
   "source": [
    "# Load chat\n",
    "import pandas as pd\n",
    "import numpy as np\n",
    "import re\n",
    "import sqlalchemy\n",
    "from whatstk import WhatsAppChat\n",
    "from mysql.connector import connect\n",
    "from sqlalchemy import create_engine\n",
    "filepath = 'SE_chat.txt' # file created from WhatsApp group\n",
    "chat = WhatsAppChat.from_source(filepath=filepath) #Use the WhatsAppChat library to convert group export to a dataframe\n",
    "chat_df=chat.df\n",
    "database_username = ''\n",
    "database_password = ''\n",
    "database_ip       = 'localhost'\n",
    "database_name     = 'se_observation_log'\n",
    "database_connection = sqlalchemy.create_engine('mysql+mysqlconnector://{0}:{1}@{2}/{3}'.\n",
    "                                               format(database_username, database_password, \n",
    "                                                      database_ip, database_name)) # create the database connection\n",
    "observable_object=pd.read_sql('SELECT * from observable_objects', database_connection) # table containing observable objects\n",
    "members_name=pd.read_sql('SELECT * from members_name', database_connection) # table containing members_names\n",
    "\n"
   ]
  },
  {
   "cell_type": "code",
   "execution_count": null,
   "metadata": {},
   "outputs": [],
   "source": [
    "chat_df['obv_date'] = pd.to_datetime(chat_df['date']).dt.date # convert the date column to date type\n",
    "chat_df['obv_time'] = pd.to_datetime(chat_df['date']).dt.time # convert the time column to time type\n",
    "chat_df=chat_df.drop(['date'],axis=1) # drops the date column\n",
    "chat_df.tail()\n",
    "chat_df['contains_observation']='' # creates new columns\n",
    "chat_df['observation']=''\n",
    "chat_df['obv_date'] = pd.to_datetime(chat_df['obv_date'], format='%Y-%m-%d') # Put date in readable format\n",
    "observation='|'.join(observable_object['object']) # creates a list of items in the observable objects table in the database\n",
    "chat_df['contains_observation']=chat_df.message.str.contains(observation, flags=re.IGNORECASE, regex=True)\n",
    "    # checks the message column for items contained in the observation variable of the database."
   ]
  },
  {
   "cell_type": "code",
   "execution_count": null,
   "metadata": {},
   "outputs": [],
   "source": [
    "this_month=chat_df.loc[(chat_df['obv_date']>='2023-08-01') & (chat_df['obv_date']<='2023-08-31')] \n",
    " # The observation is a monthly output. This creates a new dataframe for the specific month\n",
    "this_month.to_csv('observation_log.csv') # outputs as CSV file\n"
   ]
  },
  {
   "cell_type": "code",
   "execution_count": null,
   "metadata": {},
   "outputs": [],
   "source": []
  }
 ],
 "metadata": {
  "kernelspec": {
   "display_name": "Python 3 (ipykernel)",
   "language": "python",
   "name": "python3"
  },
  "language_info": {
   "codemirror_mode": {
    "name": "ipython",
    "version": 3
   },
   "file_extension": ".py",
   "mimetype": "text/x-python",
   "name": "python",
   "nbconvert_exporter": "python",
   "pygments_lexer": "ipython3",
   "version": "3.8.5"
  }
 },
 "nbformat": 4,
 "nbformat_minor": 4
}
